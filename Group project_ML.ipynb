{
 "cells": [
  {
   "cell_type": "markdown",
   "id": "697bc869",
   "metadata": {},
   "source": [
    "<b>Sentiment analysis is a natural language processing approach that is frequently used in customer evaluations to ascertain the emotional undertone of a series of words. Sentiment analysis aims to categorize a text's sentiment as either positive, negative, or neutral.</b>\n",
    "\n",
    "<b>The main goal of this project is to categorize the product based on the reviews provided. The categorization depends on the attributes taken from a dataset of the popular e-commerce website.</b>"
   ]
  },
  {
   "cell_type": "markdown",
   "id": "d6946346",
   "metadata": {},
   "source": [
    "<b>Libraries required:</b>\n",
    "<ul>\n",
    "    <li><b>Pandas:</b> Python data analysis and manipulation open-source library. It features a number of tools for dealing with data, including data cleaning, transformation, and visualization, and offers data structures for effectively storing and managing massive datasets.</li>\n",
    "    <li><b>Matplotlib:</b> Prominent Python charting package that offers a large selection of programmable 2D and 3D graphs. A wide range of plots, including line plots, scatter plots, bar plots, histograms, and many more, may be made by users.</li>\n",
    "    <li><b>Numpy:</b> Large, multi-dimensional arrays and matrices are supported by a well-known Python library for scientific computing, which also offers a number of sophisticated mathematical operations to work on big arrays.</li>\n",
    "    \n",
    "</ul>"
   ]
  },
  {
   "cell_type": "code",
   "execution_count": 1,
   "id": "e5fb34fe",
   "metadata": {},
   "outputs": [
    {
     "data": {
      "text/html": [
       "<div>\n",
       "<style scoped>\n",
       "    .dataframe tbody tr th:only-of-type {\n",
       "        vertical-align: middle;\n",
       "    }\n",
       "\n",
       "    .dataframe tbody tr th {\n",
       "        vertical-align: top;\n",
       "    }\n",
       "\n",
       "    .dataframe thead th {\n",
       "        text-align: right;\n",
       "    }\n",
       "</style>\n",
       "<table border=\"1\" class=\"dataframe\">\n",
       "  <thead>\n",
       "    <tr style=\"text-align: right;\">\n",
       "      <th></th>\n",
       "      <th>id</th>\n",
       "      <th>name</th>\n",
       "      <th>asins</th>\n",
       "      <th>brand</th>\n",
       "      <th>categories</th>\n",
       "      <th>keys</th>\n",
       "      <th>manufacturer</th>\n",
       "      <th>reviews.date</th>\n",
       "      <th>reviews.dateAdded</th>\n",
       "      <th>reviews.dateSeen</th>\n",
       "      <th>...</th>\n",
       "      <th>reviews.doRecommend</th>\n",
       "      <th>reviews.id</th>\n",
       "      <th>reviews.numHelpful</th>\n",
       "      <th>reviews.rating</th>\n",
       "      <th>reviews.sourceURLs</th>\n",
       "      <th>reviews.text</th>\n",
       "      <th>reviews.title</th>\n",
       "      <th>reviews.userCity</th>\n",
       "      <th>reviews.userProvince</th>\n",
       "      <th>reviews.username</th>\n",
       "    </tr>\n",
       "  </thead>\n",
       "  <tbody>\n",
       "    <tr>\n",
       "      <th>0</th>\n",
       "      <td>AVqkIhwDv8e3D1O-lebb</td>\n",
       "      <td>All-New Fire HD 8 Tablet, 8 HD Display, Wi-Fi,...</td>\n",
       "      <td>B01AHB9CN2</td>\n",
       "      <td>Amazon</td>\n",
       "      <td>Electronics,iPad &amp; Tablets,All Tablets,Fire Ta...</td>\n",
       "      <td>841667104676,amazon/53004484,amazon/b01ahb9cn2...</td>\n",
       "      <td>Amazon</td>\n",
       "      <td>2017-01-13T00:00:00.000Z</td>\n",
       "      <td>2017-07-03T23:33:15Z</td>\n",
       "      <td>2017-06-07T09:04:00.000Z,2017-04-30T00:45:00.000Z</td>\n",
       "      <td>...</td>\n",
       "      <td>True</td>\n",
       "      <td>NaN</td>\n",
       "      <td>0.0</td>\n",
       "      <td>5.0</td>\n",
       "      <td>http://reviews.bestbuy.com/3545/5620406/review...</td>\n",
       "      <td>This product so far has not disappointed. My c...</td>\n",
       "      <td>Kindle</td>\n",
       "      <td>NaN</td>\n",
       "      <td>NaN</td>\n",
       "      <td>Adapter</td>\n",
       "    </tr>\n",
       "    <tr>\n",
       "      <th>1</th>\n",
       "      <td>AVqkIhwDv8e3D1O-lebb</td>\n",
       "      <td>All-New Fire HD 8 Tablet, 8 HD Display, Wi-Fi,...</td>\n",
       "      <td>B01AHB9CN2</td>\n",
       "      <td>Amazon</td>\n",
       "      <td>Electronics,iPad &amp; Tablets,All Tablets,Fire Ta...</td>\n",
       "      <td>841667104676,amazon/53004484,amazon/b01ahb9cn2...</td>\n",
       "      <td>Amazon</td>\n",
       "      <td>2017-01-13T00:00:00.000Z</td>\n",
       "      <td>2017-07-03T23:33:15Z</td>\n",
       "      <td>2017-06-07T09:04:00.000Z,2017-04-30T00:45:00.000Z</td>\n",
       "      <td>...</td>\n",
       "      <td>True</td>\n",
       "      <td>NaN</td>\n",
       "      <td>0.0</td>\n",
       "      <td>5.0</td>\n",
       "      <td>http://reviews.bestbuy.com/3545/5620406/review...</td>\n",
       "      <td>great for beginner or experienced person. Boug...</td>\n",
       "      <td>very fast</td>\n",
       "      <td>NaN</td>\n",
       "      <td>NaN</td>\n",
       "      <td>truman</td>\n",
       "    </tr>\n",
       "  </tbody>\n",
       "</table>\n",
       "<p>2 rows × 21 columns</p>\n",
       "</div>"
      ],
      "text/plain": [
       "                     id                                               name  \\\n",
       "0  AVqkIhwDv8e3D1O-lebb  All-New Fire HD 8 Tablet, 8 HD Display, Wi-Fi,...   \n",
       "1  AVqkIhwDv8e3D1O-lebb  All-New Fire HD 8 Tablet, 8 HD Display, Wi-Fi,...   \n",
       "\n",
       "        asins   brand                                         categories  \\\n",
       "0  B01AHB9CN2  Amazon  Electronics,iPad & Tablets,All Tablets,Fire Ta...   \n",
       "1  B01AHB9CN2  Amazon  Electronics,iPad & Tablets,All Tablets,Fire Ta...   \n",
       "\n",
       "                                                keys manufacturer  \\\n",
       "0  841667104676,amazon/53004484,amazon/b01ahb9cn2...       Amazon   \n",
       "1  841667104676,amazon/53004484,amazon/b01ahb9cn2...       Amazon   \n",
       "\n",
       "               reviews.date     reviews.dateAdded  \\\n",
       "0  2017-01-13T00:00:00.000Z  2017-07-03T23:33:15Z   \n",
       "1  2017-01-13T00:00:00.000Z  2017-07-03T23:33:15Z   \n",
       "\n",
       "                                    reviews.dateSeen  ... reviews.doRecommend  \\\n",
       "0  2017-06-07T09:04:00.000Z,2017-04-30T00:45:00.000Z  ...                True   \n",
       "1  2017-06-07T09:04:00.000Z,2017-04-30T00:45:00.000Z  ...                True   \n",
       "\n",
       "  reviews.id  reviews.numHelpful  reviews.rating  \\\n",
       "0        NaN                 0.0             5.0   \n",
       "1        NaN                 0.0             5.0   \n",
       "\n",
       "                                  reviews.sourceURLs  \\\n",
       "0  http://reviews.bestbuy.com/3545/5620406/review...   \n",
       "1  http://reviews.bestbuy.com/3545/5620406/review...   \n",
       "\n",
       "                                        reviews.text reviews.title  \\\n",
       "0  This product so far has not disappointed. My c...        Kindle   \n",
       "1  great for beginner or experienced person. Boug...     very fast   \n",
       "\n",
       "  reviews.userCity  reviews.userProvince  reviews.username  \n",
       "0              NaN                   NaN           Adapter  \n",
       "1              NaN                   NaN            truman  \n",
       "\n",
       "[2 rows x 21 columns]"
      ]
     },
     "execution_count": 1,
     "metadata": {},
     "output_type": "execute_result"
    }
   ],
   "source": [
    "'''Importing required libraries'''\n",
    "import pandas as pd\n",
    "import matplotlib.pyplot as plt\n",
    "import numpy as np\n",
    "import warnings\n",
    "warnings.filterwarnings('ignore') # Hides warning\n",
    "data = \"C:\\\\Users\\\\arraa\\\\OneDrive\\\\Desktop\\\\UC\\\\masters spring sem\\\\MSIT\\\\ML AND DM\\\\Amazon_customer_reviews.csv\"\n",
    "data_set = pd.read_csv(data)\n",
    "data_set.head(2)"
   ]
  },
  {
   "cell_type": "markdown",
   "id": "b353eb7e",
   "metadata": {},
   "source": [
    "<b>Description of the Dataset</b>"
   ]
  },
  {
   "cell_type": "code",
   "execution_count": 2,
   "id": "44b93b3a",
   "metadata": {},
   "outputs": [
    {
     "data": {
      "text/html": [
       "<div>\n",
       "<style scoped>\n",
       "    .dataframe tbody tr th:only-of-type {\n",
       "        vertical-align: middle;\n",
       "    }\n",
       "\n",
       "    .dataframe tbody tr th {\n",
       "        vertical-align: top;\n",
       "    }\n",
       "\n",
       "    .dataframe thead th {\n",
       "        text-align: right;\n",
       "    }\n",
       "</style>\n",
       "<table border=\"1\" class=\"dataframe\">\n",
       "  <thead>\n",
       "    <tr style=\"text-align: right;\">\n",
       "      <th></th>\n",
       "      <th>reviews.id</th>\n",
       "      <th>reviews.numHelpful</th>\n",
       "      <th>reviews.rating</th>\n",
       "      <th>reviews.userCity</th>\n",
       "      <th>reviews.userProvince</th>\n",
       "    </tr>\n",
       "  </thead>\n",
       "  <tbody>\n",
       "    <tr>\n",
       "      <th>count</th>\n",
       "      <td>1.0</td>\n",
       "      <td>34131.000000</td>\n",
       "      <td>34627.000000</td>\n",
       "      <td>0.0</td>\n",
       "      <td>0.0</td>\n",
       "    </tr>\n",
       "    <tr>\n",
       "      <th>mean</th>\n",
       "      <td>111372787.0</td>\n",
       "      <td>0.630248</td>\n",
       "      <td>4.584573</td>\n",
       "      <td>NaN</td>\n",
       "      <td>NaN</td>\n",
       "    </tr>\n",
       "    <tr>\n",
       "      <th>std</th>\n",
       "      <td>NaN</td>\n",
       "      <td>13.215775</td>\n",
       "      <td>0.735653</td>\n",
       "      <td>NaN</td>\n",
       "      <td>NaN</td>\n",
       "    </tr>\n",
       "    <tr>\n",
       "      <th>min</th>\n",
       "      <td>111372787.0</td>\n",
       "      <td>0.000000</td>\n",
       "      <td>1.000000</td>\n",
       "      <td>NaN</td>\n",
       "      <td>NaN</td>\n",
       "    </tr>\n",
       "    <tr>\n",
       "      <th>25%</th>\n",
       "      <td>111372787.0</td>\n",
       "      <td>0.000000</td>\n",
       "      <td>4.000000</td>\n",
       "      <td>NaN</td>\n",
       "      <td>NaN</td>\n",
       "    </tr>\n",
       "    <tr>\n",
       "      <th>50%</th>\n",
       "      <td>111372787.0</td>\n",
       "      <td>0.000000</td>\n",
       "      <td>5.000000</td>\n",
       "      <td>NaN</td>\n",
       "      <td>NaN</td>\n",
       "    </tr>\n",
       "    <tr>\n",
       "      <th>75%</th>\n",
       "      <td>111372787.0</td>\n",
       "      <td>0.000000</td>\n",
       "      <td>5.000000</td>\n",
       "      <td>NaN</td>\n",
       "      <td>NaN</td>\n",
       "    </tr>\n",
       "    <tr>\n",
       "      <th>max</th>\n",
       "      <td>111372787.0</td>\n",
       "      <td>814.000000</td>\n",
       "      <td>5.000000</td>\n",
       "      <td>NaN</td>\n",
       "      <td>NaN</td>\n",
       "    </tr>\n",
       "  </tbody>\n",
       "</table>\n",
       "</div>"
      ],
      "text/plain": [
       "        reviews.id  reviews.numHelpful  reviews.rating  reviews.userCity  \\\n",
       "count          1.0        34131.000000    34627.000000               0.0   \n",
       "mean   111372787.0            0.630248        4.584573               NaN   \n",
       "std            NaN           13.215775        0.735653               NaN   \n",
       "min    111372787.0            0.000000        1.000000               NaN   \n",
       "25%    111372787.0            0.000000        4.000000               NaN   \n",
       "50%    111372787.0            0.000000        5.000000               NaN   \n",
       "75%    111372787.0            0.000000        5.000000               NaN   \n",
       "max    111372787.0          814.000000        5.000000               NaN   \n",
       "\n",
       "       reviews.userProvince  \n",
       "count                   0.0  \n",
       "mean                    NaN  \n",
       "std                     NaN  \n",
       "min                     NaN  \n",
       "25%                     NaN  \n",
       "50%                     NaN  \n",
       "75%                     NaN  \n",
       "max                     NaN  "
      ]
     },
     "execution_count": 2,
     "metadata": {},
     "output_type": "execute_result"
    }
   ],
   "source": [
    "data_set.describe()"
   ]
  },
  {
   "cell_type": "markdown",
   "id": "fc42c127",
   "metadata": {},
   "source": [
    "<b>Information of the dataset consisting of the information of all the attributes</b>"
   ]
  },
  {
   "cell_type": "code",
   "execution_count": 3,
   "id": "2529e8df",
   "metadata": {},
   "outputs": [
    {
     "name": "stdout",
     "output_type": "stream",
     "text": [
      "<class 'pandas.core.frame.DataFrame'>\n",
      "RangeIndex: 34660 entries, 0 to 34659\n",
      "Data columns (total 21 columns):\n",
      " #   Column                Non-Null Count  Dtype  \n",
      "---  ------                --------------  -----  \n",
      " 0   id                    34660 non-null  object \n",
      " 1   name                  27900 non-null  object \n",
      " 2   asins                 34658 non-null  object \n",
      " 3   brand                 34660 non-null  object \n",
      " 4   categories            34660 non-null  object \n",
      " 5   keys                  34660 non-null  object \n",
      " 6   manufacturer          34660 non-null  object \n",
      " 7   reviews.date          34621 non-null  object \n",
      " 8   reviews.dateAdded     24039 non-null  object \n",
      " 9   reviews.dateSeen      34660 non-null  object \n",
      " 10  reviews.didPurchase   1 non-null      object \n",
      " 11  reviews.doRecommend   34066 non-null  object \n",
      " 12  reviews.id            1 non-null      float64\n",
      " 13  reviews.numHelpful    34131 non-null  float64\n",
      " 14  reviews.rating        34627 non-null  float64\n",
      " 15  reviews.sourceURLs    34660 non-null  object \n",
      " 16  reviews.text          34659 non-null  object \n",
      " 17  reviews.title         34655 non-null  object \n",
      " 18  reviews.userCity      0 non-null      float64\n",
      " 19  reviews.userProvince  0 non-null      float64\n",
      " 20  reviews.username      34658 non-null  object \n",
      "dtypes: float64(5), object(16)\n",
      "memory usage: 5.6+ MB\n"
     ]
    }
   ],
   "source": [
    "data_set.info()"
   ]
  },
  {
   "cell_type": "markdown",
   "id": "250255c7",
   "metadata": {},
   "source": [
    "<b>Plotting of the numerical attributes: reviews.id, reviews.numHelpful, reviews.rating, reviews.province, reviews.city</b>"
   ]
  },
  {
   "cell_type": "code",
   "execution_count": 4,
   "id": "fa3709f6",
   "metadata": {},
   "outputs": [
    {
     "data": {
      "text/plain": [
       "array([[<AxesSubplot:title={'center':'reviews.id'}>,\n",
       "        <AxesSubplot:title={'center':'reviews.numHelpful'}>],\n",
       "       [<AxesSubplot:title={'center':'reviews.rating'}>,\n",
       "        <AxesSubplot:title={'center':'reviews.userCity'}>],\n",
       "       [<AxesSubplot:title={'center':'reviews.userProvince'}>,\n",
       "        <AxesSubplot:>]], dtype=object)"
      ]
     },
     "execution_count": 4,
     "metadata": {},
     "output_type": "execute_result"
    },
    {
     "data": {
      "image/png": "[encoded data removed]",
      "text/plain": [
       "<Figure size 640x480 with 6 Axes>"
      ]
     },
     "metadata": {},
     "output_type": "display_data"
    }
   ],
   "source": [
    "data_set.hist()"
   ]
  },
  {
   "cell_type": "markdown",
   "id": "01406575",
   "metadata": {},
   "source": [
    "<b>We are using the Scikit-learn library's StratifiedShuffleSplit module to split the dataset into train and test sets, preserving the distribution of the target variable.</b>\n",
    "<ul>\n",
    "    <li>Dropping all the rows that contain missing values in the reviews.rating column using the dropna() method.</li>\n",
    "    <li>converting the reviews.rating column to an integer data type using the astype() method. This is necessary because the target variable is expected to be a numerical data type in most machine learning algorithms.</li>\n",
    "<li>In order to provide representative samples for machine learning algorithms, it is helpful to ensure that the train and test sets have a comparable distribution of target variable values. </li>\n",
    "</ul>"
   ]
  },
  {
   "cell_type": "code",
   "execution_count": 5,
   "id": "7bc6abd9",
   "metadata": {},
   "outputs": [],
   "source": [
    "from sklearn.model_selection import StratifiedShuffleSplit\n",
    "data_set_x = data_set.dropna(subset=[\"reviews.rating\"])\n",
    "data_set_x[\"reviews.rating\"] = data_set_x[\"reviews.rating\"].astype(int)"
   ]
  },
  {
   "cell_type": "code",
   "execution_count": 6,
   "id": "56177936",
   "metadata": {},
   "outputs": [],
   "source": [
    "split = StratifiedShuffleSplit(n_splits=5, test_size=0.2)\n",
    "for train_index, test_index in split.split(data_set_x, data_set_x[\"reviews.rating\"]): \n",
    "    train = data_set_x.reindex(train_index)\n",
    "    test = data_set_x.reindex(test_index)"
   ]
  },
  {
   "cell_type": "code",
   "execution_count": 7,
   "id": "f33ab9a7",
   "metadata": {},
   "outputs": [
    {
     "data": {
      "text/plain": [
       "5.0    0.687340\n",
       "4.0    0.246381\n",
       "3.0    0.042381\n",
       "1.0    0.011769\n",
       "2.0    0.011155\n",
       "Name: reviews.rating, dtype: float64"
      ]
     },
     "execution_count": 7,
     "metadata": {},
     "output_type": "execute_result"
    }
   ],
   "source": [
    "train[\"reviews.rating\"].value_counts()/len(train)"
   ]
  },
  {
   "cell_type": "code",
   "execution_count": 8,
   "id": "1aed6f0f",
   "metadata": {},
   "outputs": [
    {
     "data": {
      "text/plain": [
       "5.0    0.681201\n",
       "4.0    0.247329\n",
       "3.0    0.046636\n",
       "2.0    0.013283\n",
       "1.0    0.010684\n",
       "Name: reviews.rating, dtype: float64"
      ]
     },
     "execution_count": 8,
     "metadata": {},
     "output_type": "execute_result"
    }
   ],
   "source": [
    "test[\"reviews.rating\"].value_counts()/len(test)"
   ]
  },
  {
   "cell_type": "code",
   "execution_count": 9,
   "id": "3261d736",
   "metadata": {},
   "outputs": [],
   "source": [
    "corr = train.corr()"
   ]
  },
  {
   "cell_type": "code",
   "execution_count": 10,
   "id": "284ad0ed",
   "metadata": {},
   "outputs": [
    {
     "data": {
      "text/html": [
       "<div>\n",
       "<style scoped>\n",
       "    .dataframe tbody tr th:only-of-type {\n",
       "        vertical-align: middle;\n",
       "    }\n",
       "\n",
       "    .dataframe tbody tr th {\n",
       "        vertical-align: top;\n",
       "    }\n",
       "\n",
       "    .dataframe thead th {\n",
       "        text-align: right;\n",
       "    }\n",
       "</style>\n",
       "<table border=\"1\" class=\"dataframe\">\n",
       "  <thead>\n",
       "    <tr style=\"text-align: right;\">\n",
       "      <th></th>\n",
       "      <th>reviews.id</th>\n",
       "      <th>reviews.numHelpful</th>\n",
       "      <th>reviews.rating</th>\n",
       "      <th>reviews.userCity</th>\n",
       "      <th>reviews.userProvince</th>\n",
       "    </tr>\n",
       "  </thead>\n",
       "  <tbody>\n",
       "    <tr>\n",
       "      <th>reviews.id</th>\n",
       "      <td>NaN</td>\n",
       "      <td>NaN</td>\n",
       "      <td>NaN</td>\n",
       "      <td>NaN</td>\n",
       "      <td>NaN</td>\n",
       "    </tr>\n",
       "    <tr>\n",
       "      <th>reviews.numHelpful</th>\n",
       "      <td>NaN</td>\n",
       "      <td>1.000000</td>\n",
       "      <td>-0.039881</td>\n",
       "      <td>NaN</td>\n",
       "      <td>NaN</td>\n",
       "    </tr>\n",
       "    <tr>\n",
       "      <th>reviews.rating</th>\n",
       "      <td>NaN</td>\n",
       "      <td>-0.039881</td>\n",
       "      <td>1.000000</td>\n",
       "      <td>NaN</td>\n",
       "      <td>NaN</td>\n",
       "    </tr>\n",
       "    <tr>\n",
       "      <th>reviews.userCity</th>\n",
       "      <td>NaN</td>\n",
       "      <td>NaN</td>\n",
       "      <td>NaN</td>\n",
       "      <td>NaN</td>\n",
       "      <td>NaN</td>\n",
       "    </tr>\n",
       "    <tr>\n",
       "      <th>reviews.userProvince</th>\n",
       "      <td>NaN</td>\n",
       "      <td>NaN</td>\n",
       "      <td>NaN</td>\n",
       "      <td>NaN</td>\n",
       "      <td>NaN</td>\n",
       "    </tr>\n",
       "  </tbody>\n",
       "</table>\n",
       "</div>"
      ],
      "text/plain": [
       "                      reviews.id  reviews.numHelpful  reviews.rating  \\\n",
       "reviews.id                   NaN                 NaN             NaN   \n",
       "reviews.numHelpful           NaN            1.000000       -0.039881   \n",
       "reviews.rating               NaN           -0.039881        1.000000   \n",
       "reviews.userCity             NaN                 NaN             NaN   \n",
       "reviews.userProvince         NaN                 NaN             NaN   \n",
       "\n",
       "                      reviews.userCity  reviews.userProvince  \n",
       "reviews.id                         NaN                   NaN  \n",
       "reviews.numHelpful                 NaN                   NaN  \n",
       "reviews.rating                     NaN                   NaN  \n",
       "reviews.userCity                   NaN                   NaN  \n",
       "reviews.userProvince               NaN                   NaN  "
      ]
     },
     "execution_count": 10,
     "metadata": {},
     "output_type": "execute_result"
    }
   ],
   "source": [
    "corr"
   ]
  },
  {
   "cell_type": "markdown",
   "id": "395eb47f",
   "metadata": {},
   "source": [
    "<b>Correlation:</b> A statistical method called correlation assesses how closely two variables are related to one another. It is frequently done in data analysis to look at the relationship between two numerical variables."
   ]
  },
  {
   "cell_type": "code",
   "execution_count": 11,
   "id": "66520f21",
   "metadata": {},
   "outputs": [
    {
     "data": {
      "image/png": "[encoded data removed]",
      "text/plain": [
       "<Figure size 640x480 with 2 Axes>"
      ]
     },
     "metadata": {},
     "output_type": "display_data"
    }
   ],
   "source": [
    "import seaborn as sb\n",
    "dataplot = sb.heatmap(corr, cmap=\"YlGnBu\", annot=True)"
   ]
  },
  {
   "cell_type": "markdown",
   "id": "c244ef7e",
   "metadata": {},
   "source": [
    "<b>Getting information of the training dataset which is split by using stratified split method. The train dataset is 80% of the original dataset</b>"
   ]
  },
  {
   "cell_type": "code",
   "execution_count": 12,
   "id": "537ad8d3",
   "metadata": {},
   "outputs": [
    {
     "name": "stdout",
     "output_type": "stream",
     "text": [
      "<class 'pandas.core.frame.DataFrame'>\n",
      "Int64Index: 27701 entries, 1401 to 21229\n",
      "Data columns (total 21 columns):\n",
      " #   Column                Non-Null Count  Dtype  \n",
      "---  ------                --------------  -----  \n",
      " 0   id                    27674 non-null  object \n",
      " 1   name                  22254 non-null  object \n",
      " 2   asins                 27672 non-null  object \n",
      " 3   brand                 27674 non-null  object \n",
      " 4   categories            27674 non-null  object \n",
      " 5   keys                  27674 non-null  object \n",
      " 6   manufacturer          27674 non-null  object \n",
      " 7   reviews.date          27658 non-null  object \n",
      " 8   reviews.dateAdded     19207 non-null  object \n",
      " 9   reviews.dateSeen      27674 non-null  object \n",
      " 10  reviews.didPurchase   0 non-null      object \n",
      " 11  reviews.doRecommend   27254 non-null  object \n",
      " 12  reviews.id            0 non-null      float64\n",
      " 13  reviews.numHelpful    27303 non-null  float64\n",
      " 14  reviews.rating        27674 non-null  float64\n",
      " 15  reviews.sourceURLs    27674 non-null  object \n",
      " 16  reviews.text          27673 non-null  object \n",
      " 17  reviews.title         27671 non-null  object \n",
      " 18  reviews.userCity      0 non-null      float64\n",
      " 19  reviews.userProvince  0 non-null      float64\n",
      " 20  reviews.username      27673 non-null  object \n",
      "dtypes: float64(5), object(16)\n",
      "memory usage: 4.6+ MB\n"
     ]
    }
   ],
   "source": [
    "train.info()"
   ]
  },
  {
   "cell_type": "markdown",
   "id": "0deb289a",
   "metadata": {},
   "source": [
    "<b>A user-defined function is created</b>\n",
    "<ul>\n",
    "    <li>Establishes the sentiments function, which receives a rating as input and outputs a sentiment (positive, neutral, or negative) depending on the rating.</li>\n",
    "<li>Based on a set of criteria, the function assigns the rating to one of the three sentiment groups.</li>\n",
    "<li>The sentiments function is applied to the reviews using the apply() method.The sentiment values obtained from the rating column of the train and test dataframes are recorded in new Sentiment columns in each dataframe.</li>\n",
    "<li>Only the first 20 rows of the train dataframe's first 20 rows have the Sentiment column produced.</li>\n",
    "<li>A supervised learning model may be used to predict the sentiment of incoming reviews based on their rating by using the generated Sentiment column in both the train and test dataframes as a target variable.</li>\n",
    "    </ul>"
   ]
  },
  {
   "cell_type": "code",
   "execution_count": 13,
   "id": "298bafeb",
   "metadata": {},
   "outputs": [
    {
     "data": {
      "text/plain": [
       "1401     Positive\n",
       "3092     Positive\n",
       "11379    Positive\n",
       "19784    Positive\n",
       "21749    Positive\n",
       "25070    Positive\n",
       "16632    Positive\n",
       "10854    Positive\n",
       "23456    Positive\n",
       "26402    Positive\n",
       "13410    Positive\n",
       "6991     Positive\n",
       "24125    Positive\n",
       "6018     Positive\n",
       "27003    Positive\n",
       "30424    Positive\n",
       "9714     Positive\n",
       "28076    Positive\n",
       "3109     Positive\n",
       "17078    Positive\n",
       "Name: Sentiment, dtype: object"
      ]
     },
     "execution_count": 13,
     "metadata": {},
     "output_type": "execute_result"
    }
   ],
   "source": [
    "def sentiments(rating):\n",
    "    if (rating == 5) or (rating == 4):\n",
    "        return \"Positive\"\n",
    "    elif rating == 3:\n",
    "        return \"Neutral\"\n",
    "    elif (rating == 2) or (rating == 1):\n",
    "        return \"Negative\"\n",
    "train[\"Sentiment\"] = train[\"reviews.rating\"].apply(sentiments)\n",
    "test[\"Sentiment\"] = test[\"reviews.rating\"].apply(sentiments)\n",
    "train[\"Sentiment\"][:20]"
   ]
  },
  {
   "cell_type": "code",
   "execution_count": 14,
   "id": "5dd91946",
   "metadata": {},
   "outputs": [
    {
     "name": "stdout",
     "output_type": "stream",
     "text": [
      "27701 6926\n"
     ]
    }
   ],
   "source": [
    "X_train = train[\"reviews.text\"]\n",
    "X_train_target = train[\"Sentiment\"]\n",
    "X_test = test[\"reviews.text\"]\n",
    "X_test_target = test[\"Sentiment\"]\n",
    "print(len(X_train), len(X_test))"
   ]
  },
  {
   "cell_type": "markdown",
   "id": "71ae50a1",
   "metadata": {},
   "source": [
    "<ul>\n",
    "    <li>Uses the fillna() function to replace any missing values in the X_train, X_test, X_train_target, and X_test_target dataframes with empty strings. In order for the data to be correctly handled by the CountVectorizer module in the following phase, this is done.</li>\n",
    "    <li>Creates a new instance of the text preparation and occurrence counting CountVectorizer() module. This module creates a token count matrix from the text data in the X_train dataframe.</li>\n",
    "    <li>The X_train dataframe is transformed into a sparse matrix of token counts by fitting the CountVectorizer() object to it using the fit_transform() function. The resultant matrix is kept in the variable X_train_counts, which stands for the preprocessed and vectorized text data that may be utilized for developing a machine learning model. The X_train_counts shape property prints the matrix's dimensions, including the number of rows (samples) and columns. (features).</li>\n",
    "    </ul>"
   ]
  },
  {
   "cell_type": "code",
   "execution_count": 15,
   "id": "3aa9e98a",
   "metadata": {},
   "outputs": [
    {
     "data": {
      "text/plain": [
       "(27701, 12494)"
      ]
     },
     "execution_count": 15,
     "metadata": {},
     "output_type": "execute_result"
    }
   ],
   "source": [
    "X_train = X_train.fillna(' ')\n",
    "X_test = X_test.fillna(' ')\n",
    "X_train_target = X_train_target.fillna(' ')\n",
    "X_test_target = X_test_target.fillna(' ')\n",
    "\n",
    "# Text preprocessing and occurance counting\n",
    "from sklearn.feature_extraction.text import CountVectorizer \n",
    "vect = CountVectorizer()\n",
    "X_train_counts = vect.fit_transform(X_train) \n",
    "X_train_counts.shape"
   ]
  },
  {
   "cell_type": "markdown",
   "id": "59cb659e",
   "metadata": {},
   "source": [
    "<ul>\n",
    "    <li>The TfidfTransformer() module is used to extract text features. The count matrix from CountVectorizer() is transformed into a normalized term frequency-inverse document frequency (TF-IDF) representation using TfidfTransformer(). This aids in determining the relative weight of each word in the text data and is frequently applied to raise the precision of text classification models.</li>\n",
    "    </ul>"
   ]
  },
  {
   "cell_type": "code",
   "execution_count": 16,
   "id": "4823bff9",
   "metadata": {},
   "outputs": [
    {
     "data": {
      "text/plain": [
       "(27701, 12494)"
      ]
     },
     "execution_count": 16,
     "metadata": {},
     "output_type": "execute_result"
    }
   ],
   "source": [
    "from sklearn.feature_extraction.text import TfidfTransformer\n",
    "tfidf_transformer = TfidfTransformer(use_idf=False)\n",
    "X_train_tfidf = tfidf_transformer.fit_transform(X_train_counts)\n",
    "X_train_tfidf.shape"
   ]
  },
  {
   "cell_type": "markdown",
   "id": "3eb47370",
   "metadata": {},
   "source": [
    "<b>Training a model using pipeline</b>\n",
    "\n",
    "<b>MultinomialNB:</b> It is a machine learning method from the Naive Bayes family that is frequently employed for text classification tasks including sentiment analysis and topic modeling. It estimates the probability of each feature given each class using a multinomial distribution and is predicated on the idea that the features (words) are conditionally independent given the class (sentiment or topic)."
   ]
  },
  {
   "cell_type": "code",
   "execution_count": 17,
   "id": "bc524161",
   "metadata": {},
   "outputs": [
    {
     "data": {
      "text/plain": [
       "Pipeline(steps=[('vect', CountVectorizer()), ('tfidf', TfidfTransformer()),\n",
       "                ('NB', MultinomialNB())])"
      ]
     },
     "execution_count": 17,
     "metadata": {},
     "output_type": "execute_result"
    }
   ],
   "source": [
    "from sklearn.naive_bayes import MultinomialNB\n",
    "from sklearn.pipeline import Pipeline\n",
    "clf_multiNB_pipe = Pipeline([(\"vect\", CountVectorizer()), (\"tfidf\", TfidfTransformer()), (\"NB\", MultinomialNB())])\n",
    "clf_multiNB_pipe.fit(X_train, X_train_target)"
   ]
  },
  {
   "cell_type": "code",
   "execution_count": 18,
   "id": "79c78d54",
   "metadata": {},
   "outputs": [
    {
     "data": {
      "text/plain": [
       "0.9283857926653191"
      ]
     },
     "execution_count": 18,
     "metadata": {},
     "output_type": "execute_result"
    }
   ],
   "source": [
    "import numpy as np\n",
    "predictedMultiNB = clf_multiNB_pipe.predict(X_test)\n",
    "a1 = np.mean(predictedMultiNB == X_test_target)\n",
    "a1"
   ]
  },
  {
   "cell_type": "markdown",
   "id": "31346635",
   "metadata": {},
   "source": [
    "A scatter plot to show how the MultinomialNB model's projected target values for the test dataset compare to the real target values. The graphic also contains a diagonal line that indicates perfect prediction; any points above or below the line denote over- or under-predictions, respectively."
   ]
  },
  {
   "cell_type": "code",
   "execution_count": 19,
   "id": "c76c068d",
   "metadata": {},
   "outputs": [
    {
     "data": {
      "image/png": "[encoded data removed]",
      "text/plain": [
       "<Figure size 640x480 with 1 Axes>"
      ]
     },
     "metadata": {},
     "output_type": "display_data"
    }
   ],
   "source": [
    "plt.scatter(X_test_target, predictedMultiNB, c='crimson')\n",
    "p1 = max(max(predictedMultiNB), max(X_test_target))\n",
    "p2 = min(min(predictedMultiNB), min(X_test_target))\n",
    "plt.plot([p1, p2], [p1, p2], 'b-')\n",
    "plt.xlabel('True Values', fontsize=15)\n",
    "plt.ylabel('Predictions', fontsize=15)\n",
    "plt.axis('equal')\n",
    "plt.show()"
   ]
  },
  {
   "cell_type": "markdown",
   "id": "74683ebc",
   "metadata": {},
   "source": [
    "<b>Logistic Regression: </b>For binary and multiple-class classification tasks, the machine learning method logistic regression is utilized. It does this by fitting a logistic regression equation to a linear combination of the input characteristics, which predicts the likelihood of the dependent variable (goal). The class with the highest probability is then predicted after separating the classes based on their probability estimations using a decision boundary. In a variety of industries, including healthcare, banking, and social sciences, logistic regression is an extensively used method."
   ]
  },
  {
   "cell_type": "code",
   "execution_count": 20,
   "id": "7dd498b0",
   "metadata": {},
   "outputs": [
    {
     "data": {
      "text/plain": [
       "0.9309846953508518"
      ]
     },
     "execution_count": 20,
     "metadata": {},
     "output_type": "execute_result"
    }
   ],
   "source": [
    "from sklearn.linear_model import LogisticRegression\n",
    "from sklearn.pipeline import Pipeline\n",
    "clf_logReg_pipe = Pipeline([(\"vect\", CountVectorizer()), (\"tfidf\", TfidfTransformer()), (\"logReg\", LogisticRegression())])\n",
    "clf_logReg_pipe.fit(X_train, X_train_target)\n",
    "\n",
    "import numpy as np\n",
    "predictedLogReg = clf_logReg_pipe.predict(X_test)\n",
    "a2 = np.mean(predictedLogReg == X_test_target)\n",
    "a2"
   ]
  },
  {
   "cell_type": "code",
   "execution_count": 21,
   "id": "0b961082",
   "metadata": {},
   "outputs": [
    {
     "data": {
      "image/png": "[encoded data removed]",
      "text/plain": [
       "<Figure size 640x480 with 1 Axes>"
      ]
     },
     "metadata": {},
     "output_type": "display_data"
    }
   ],
   "source": [
    "plt.scatter(X_test_target, predictedLogReg, c='crimson')\n",
    "p1 = max(max(predictedLogReg), max(X_test_target))\n",
    "p2 = min(min(predictedLogReg), min(X_test_target))\n",
    "plt.plot([p1, p2], [p1, p2], 'b-')\n",
    "plt.xlabel('True Values', fontsize=15)\n",
    "plt.ylabel('Predictions', fontsize=15)\n",
    "plt.axis('equal')\n",
    "plt.show()"
   ]
  },
  {
   "cell_type": "markdown",
   "id": "a713764e",
   "metadata": {},
   "source": [
    "<b>LinearSVC: </b>Binary and multi-class classification tasks are handled by the machine learning method linearSVC. It is based on the Support Vector Machine (SVM) technique that separates the classes by locating the hyperplane that optimizes the margin between them using a linear kernel function. It is often used in bioinformatics, image classification, and natural language processing and is especially helpful when working with huge datasets and high-dimensional feature spaces."
   ]
  },
  {
   "cell_type": "code",
   "execution_count": 22,
   "id": "cf6e2c71",
   "metadata": {},
   "outputs": [
    {
     "data": {
      "text/plain": [
       "0.931273462315911"
      ]
     },
     "execution_count": 22,
     "metadata": {},
     "output_type": "execute_result"
    }
   ],
   "source": [
    "from sklearn.svm import LinearSVC\n",
    "clf_linearSVC_pipe = Pipeline([(\"vect\", CountVectorizer()), (\"tfidf\", TfidfTransformer()), (\"SVC\", LinearSVC())])\n",
    "clf_linearSVC_pipe.fit(X_train, X_train_target)\n",
    "\n",
    "predictedLinearSVC = clf_linearSVC_pipe.predict(X_test)\n",
    "a3 = np.mean(predictedLinearSVC == X_test_target)\n",
    "a3"
   ]
  },
  {
   "cell_type": "code",
   "execution_count": 23,
   "id": "7e5a0731",
   "metadata": {},
   "outputs": [
    {
     "data": {
      "image/png": "[encoded data removed]",
      "text/plain": [
       "<Figure size 640x480 with 1 Axes>"
      ]
     },
     "metadata": {},
     "output_type": "display_data"
    }
   ],
   "source": [
    "plt.scatter(X_test_target, predictedLinearSVC, c='crimson')\n",
    "p1 = max(max(predictedLinearSVC), max(X_test_target))\n",
    "p2 = min(min(predictedLinearSVC), min(X_test_target))\n",
    "plt.plot([p1, p2], [p1, p2], 'b-')\n",
    "plt.xlabel('True Values', fontsize=15)\n",
    "plt.ylabel('Predictions', fontsize=15)\n",
    "plt.axis('equal')\n",
    "plt.show()"
   ]
  },
  {
   "cell_type": "markdown",
   "id": "ee752886",
   "metadata": {},
   "source": [
    "<b>DecisionTreeClassifier: </b>A machine learning algorithm called DecisionTreeClassifier is employed for classification jobs. By repeatedly dividing the data into subsets according to the values of the input features, it creates a decision tree model and selects the feature that maximizes information gain at each split. By lowering the impurity or entropy of each split, the method seeks to build a tree that accurately predicts the target variable. Decision trees are frequently utilized in industries like finance, medicine, and engineering because they are simple to understand and depict."
   ]
  },
  {
   "cell_type": "code",
   "execution_count": 24,
   "id": "ef1d13c3",
   "metadata": {},
   "outputs": [
    {
     "data": {
      "text/plain": [
       "0.8907017037250938"
      ]
     },
     "execution_count": 24,
     "metadata": {},
     "output_type": "execute_result"
    }
   ],
   "source": [
    "from sklearn.tree import DecisionTreeClassifier\n",
    "from sklearn import tree\n",
    "clf_decisionTree_pipe = Pipeline([(\"vect\", CountVectorizer()), (\"tfidf\", TfidfTransformer()), \n",
    "                                  (\"decisionTree\", DecisionTreeClassifier())])\n",
    "clf_decisionTree_pipe.fit(X_train, X_train_target)\n",
    "\n",
    "predictedDecisionTree = clf_decisionTree_pipe.predict(X_test)\n",
    "a4 = np.mean(predictedDecisionTree == X_test_target)\n",
    "a4"
   ]
  },
  {
   "cell_type": "code",
   "execution_count": 25,
   "id": "4313bb21",
   "metadata": {},
   "outputs": [
    {
     "data": {
      "image/png": "[encoded data removed]",
      "text/plain": [
       "<Figure size 640x480 with 1 Axes>"
      ]
     },
     "metadata": {},
     "output_type": "display_data"
    }
   ],
   "source": [
    "plt.scatter(X_test_target, predictedDecisionTree, c='crimson')\n",
    "p1 = max(max(predictedDecisionTree), max(X_test_target))\n",
    "p2 = min(min(predictedDecisionTree), min(X_test_target))\n",
    "plt.plot([p1, p2], [p1, p2], 'b-')\n",
    "plt.xlabel('True Values', fontsize=15)\n",
    "plt.ylabel('Predictions', fontsize=15)\n",
    "plt.axis('equal')\n",
    "plt.show()"
   ]
  },
  {
   "cell_type": "markdown",
   "id": "620c35fc",
   "metadata": {},
   "source": [
    "<b>RandomForestClassifier: </b>A machine learning method called RandomForestClassifier is employed for classification jobs. It is an ensemble learning technique that uses a random subset of the features and a random subset of the data to build a collection of decision trees. The technique uses a voting or averaging scheme to integrate the predictions of various trees to arrive at a final forecast. Compared to single decision trees, random forests are more resilient to noisy and correlated features and less prone to overfitting. They are extensively utilized in a variety of industries, including as biology, marketing, and finance."
   ]
  },
  {
   "cell_type": "code",
   "execution_count": 26,
   "id": "60184124",
   "metadata": {},
   "outputs": [
    {
     "data": {
      "text/plain": [
       "0.9288189431129079"
      ]
     },
     "execution_count": 26,
     "metadata": {},
     "output_type": "execute_result"
    }
   ],
   "source": [
    "from sklearn.ensemble import RandomForestClassifier\n",
    "clf_randomForest_pipe = Pipeline([(\"vect\", CountVectorizer()), (\"tfidf\", TfidfTransformer()), (\"randomForest\", RandomForestClassifier())])\n",
    "clf_randomForest_pipe.fit(X_train, X_train_target)\n",
    "\n",
    "predictedRandomForest = clf_randomForest_pipe.predict(X_test)\n",
    "a5 = np.mean(predictedRandomForest == X_test_target)\n",
    "a5"
   ]
  },
  {
   "cell_type": "code",
   "execution_count": 27,
   "id": "14e75576",
   "metadata": {},
   "outputs": [
    {
     "data": {
      "text/plain": [
       "(-1.1087490225657695,\n",
       " 1.106860131004028,\n",
       " -1.1227900326639315,\n",
       " 1.2131913383727702)"
      ]
     },
     "execution_count": 27,
     "metadata": {},
     "output_type": "execute_result"
    },
    {
     "data": {
      "image/png": "[encoded data removed]",
      "text/plain": [
       "<Figure size 640x480 with 1 Axes>"
      ]
     },
     "metadata": {},
     "output_type": "display_data"
    }
   ],
   "source": [
    "lab='RandomForest','DecisionTree','LogisticRegression','SVM'\n",
    "explode=(0,0,0,0.1)\n",
    "colors = ['gold', 'yellowgreen', 'lightcoral','lightblue']\n",
    "x=[np.mean(predictedRandomForest == X_test_target),np.mean(predictedDecisionTree == X_test_target),np.mean(predictedLogReg == X_test_target),np.mean(predictedLinearSVC == X_test_target)]\n",
    "plt.pie(x, explode=explode, labels=lab, colors=colors,\n",
    "autopct='%1.2f%%', shadow=True, startangle=140)\n",
    "\n",
    "plt.axis('equal')"
   ]
  },
  {
   "cell_type": "markdown",
   "id": "3c3862ff",
   "metadata": {},
   "source": [
    "<ul>\n",
    "    <li>The Scikit-learn library's GridSearchCV module is loaded in order to hyperparameter tune the LinearSVC model.</li>\n",
    "    <li>To specify the range of hyperparameters that will be tweaked during the grid search, a dictionary called parameters is generated. In this instance, the use_idf parameter of the TfidfTransformer and the ngram_range parameter of the CountVectorizer are being adjusted.</li>\n",
    "    <li>The LinearSVC pipeline is recreated and given the name clf_linearSVC_pipe. Using this pipeline and the specified parameter grid, the GridSearchCV object is then instantiated. When the n_jobs option is set to 1, all available CPUs will be used to execute the grid search in parallel.</li>\n",
    "    <li>The gs_clf_LinearSVC_pipe object is given a call to the fit() function, which conducts a grid search and trains the model using the training set of data.</li>\n",
    "    <li>The grid search results are used to determine the optimal set of hyperparameters, which are then updated in the clf_linearSVC_pipe pipeline. On the basis of the test data, predictions may now be made using this adjusted pipeline.</li>\n",
    "    </ul>"
   ]
  },
  {
   "cell_type": "code",
   "execution_count": 28,
   "id": "3bea9867",
   "metadata": {},
   "outputs": [],
   "source": [
    "from sklearn.model_selection import GridSearchCV\n",
    "parameters = {'vect__ngram_range': [(1, 1), (1, 2)],    \n",
    "             'tfidf__use_idf': (True, False), \n",
    "             } \n",
    "gs_clf_LinearSVC_pipe = GridSearchCV(clf_linearSVC_pipe, parameters, n_jobs=-1)\n",
    "gs_clf_LinearSVC_pipe = gs_clf_LinearSVC_pipe.fit(X_train, X_train_target)"
   ]
  },
  {
   "cell_type": "code",
   "execution_count": 29,
   "id": "d0826341",
   "metadata": {},
   "outputs": [
    {
     "data": {
      "text/plain": [
       "0.9341611319665031"
      ]
     },
     "execution_count": 29,
     "metadata": {},
     "output_type": "execute_result"
    }
   ],
   "source": [
    "predictedGS_clf_LinearSVC_pipe = gs_clf_LinearSVC_pipe.predict(X_test)\n",
    "np.mean(predictedGS_clf_LinearSVC_pipe == X_test_target)"
   ]
  },
  {
   "cell_type": "markdown",
   "id": "2fd98dff",
   "metadata": {},
   "source": [
    "<b>Best score: </b>Returns the mean cross-validated score (accuracy) of the best_estimator chosen from the GridSearchCV.\n",
    "\n",
    "<b>Best estimator: </b>Returns the estimator that gave the highest mean score (accuracy) in the GridSearchCV.\n",
    "\n",
    "<b>Best Parameters: </b>Returns a dictionary of parameter settings that gave the highest mean score (accuracy) in the GridSearchCV."
   ]
  },
  {
   "cell_type": "code",
   "execution_count": 30,
   "id": "64fe5cee",
   "metadata": {},
   "outputs": [
    {
     "name": "stdout",
     "output_type": "stream",
     "text": [
      "0.9387747262448553\n",
      "Pipeline(steps=[('vect', CountVectorizer(ngram_range=(1, 2))),\n",
      "                ('tfidf', TfidfTransformer(use_idf=False)),\n",
      "                ('SVC', LinearSVC())])\n",
      "{'tfidf__use_idf': False, 'vect__ngram_range': (1, 2)}\n"
     ]
    }
   ],
   "source": [
    "print(gs_clf_LinearSVC_pipe.best_score_)\n",
    "print(gs_clf_LinearSVC_pipe.best_estimator_)\n",
    "print(gs_clf_LinearSVC_pipe.best_params_)"
   ]
  },
  {
   "cell_type": "markdown",
   "id": "fa2a8716",
   "metadata": {},
   "source": [
    "<b>precision:</b> Precision is the ratio of correctly predicted positive observations to the total predicted positive observations. Here, the precision for each class (Negative, Neutral, Positive) is shown. For example, for the Positive class, the precision is 0.94, which means that out of all the predicted positive reviews, 94% are actually positive.\n",
    "\n",
    "<b>Recall:</b> Recall is the ratio of correctly predicted positive observations to the all observations in the actual class. Here, the recall for each class is shown. For example, for the Positive class, the recall is 1.0, which means that out of all the actual positive reviews, 100% are correctly predicted as positive.\n",
    "\n",
    "<b>f1-score:</b> F1 score is the harmonic mean of precision and recall. It gives a balanced idea about both precision and recall. Here, the F1 score for each class is shown.\n",
    "\n",
    "<b>support:</b> The number of actual observations for each class.\n",
    "\n",
    "<b>accuracy:</b> The overall accuracy of the model, which is the ratio of correctly predicted observations to the total observations.\n",
    "\n",
    "<b>macro avg:</b> The average precision, recall, and F1 score of all the classes.\n",
    "\n",
    "<b>weighted avg:</b> The weighted average precision, recall, and F1 score of all the classes, where the weights are the support values of each class.\n",
    "\n",
    "In this case, the model has an accuracy of 0.934, which means that 93.4% of the reviews are correctly classified by the model. The precision and recall values for the Negative and Neutral classes are relatively low compared to the Positive class, indicating that the model has more difficulty in correctly predicting these classes."
   ]
  },
  {
   "cell_type": "code",
   "execution_count": 31,
   "id": "23eb8381",
   "metadata": {},
   "outputs": [
    {
     "name": "stdout",
     "output_type": "stream",
     "text": [
      "              precision    recall  f1-score   support\n",
      "\n",
      "                   0.00      0.00      0.00         6\n",
      "    Negative       0.63      0.24      0.35       166\n",
      "     Neutral       0.46      0.08      0.13       323\n",
      "    Positive       0.94      1.00      0.97      6431\n",
      "\n",
      "    accuracy                           0.93      6926\n",
      "   macro avg       0.51      0.33      0.36      6926\n",
      "weighted avg       0.91      0.93      0.91      6926\n",
      "\n",
      "Accuracy: 0.9341611319665031\n"
     ]
    }
   ],
   "source": [
    "from sklearn.metrics import classification_report\n",
    "from sklearn.metrics import accuracy_score\n",
    "\n",
    "print(classification_report(X_test_target, predictedGS_clf_LinearSVC_pipe))\n",
    "print('Accuracy: {}'. format(accuracy_score(X_test_target, predictedGS_clf_LinearSVC_pipe)))"
   ]
  },
  {
   "cell_type": "markdown",
   "id": "3ce1bf82",
   "metadata": {},
   "source": [
    "<ul>\n",
    "    <li>The first row shows that there are 3 instances in the dataset that belong to an unknown class (not part of the Negative, Neutral, or Positive classes), and the model did not predict any of them as Negative, Neutral, or Positive.</li>\n",
    "<li>The second row shows that there are 35 instances that truly belong to the Negative class, and the model predicted them all correctly as Negative. However, the model also predicted 14 Negative instances as Neutral and 130 as Positive, leading to false positive predictions.</li>\n",
    "<li>The third row shows that there are 29 instances that truly belong to the Neutral class, and the model predicted them all correctly as Neutral. However, the model also predicted 14 Neutral instances as Negative and 269 as Positive, leading to false positive predictions.</li>\n",
    "<li>The fourth row shows that there are 6406 instances that truly belong to the Positive class, and the model predicted them all correctly as Positive. However, the model also predicted 7 Positive instances as Negative and 19 as Neutral, leading to false positive predictions.</li>\n",
    "    </ul>"
   ]
  },
  {
   "cell_type": "code",
   "execution_count": 32,
   "id": "b4ab8fda",
   "metadata": {
    "scrolled": true
   },
   "outputs": [
    {
     "data": {
      "text/plain": [
       "array([[   0,    0,    0,    6],\n",
       "       [   0,   40,   12,  114],\n",
       "       [   0,   14,   25,  284],\n",
       "       [   0,    9,   17, 6405]], dtype=int64)"
      ]
     },
     "execution_count": 32,
     "metadata": {},
     "output_type": "execute_result"
    }
   ],
   "source": [
    "from sklearn import metrics\n",
    "metrics.confusion_matrix(X_test_target, predictedGS_clf_LinearSVC_pipe)"
   ]
  },
  {
   "cell_type": "markdown",
   "id": "201d0805",
   "metadata": {},
   "source": [
    "Based upon the model built, testing its accuracy by giving few of the user reviews which are out of the input attributes:"
   ]
  },
  {
   "cell_type": "code",
   "execution_count": 33,
   "id": "fe3dff3a",
   "metadata": {},
   "outputs": [
    {
     "data": {
      "text/plain": [
       "array(['Negative'], dtype=object)"
      ]
     },
     "execution_count": 33,
     "metadata": {},
     "output_type": "execute_result"
    }
   ],
   "source": [
    "x=[\"the tablet wouldn't work.\"]\n",
    "gs_clf_LinearSVC_pipe.predict(x)"
   ]
  },
  {
   "cell_type": "code",
   "execution_count": 34,
   "id": "aea988d7",
   "metadata": {},
   "outputs": [
    {
     "data": {
      "text/plain": [
       "array(['Positive'], dtype=object)"
      ]
     },
     "execution_count": 34,
     "metadata": {},
     "output_type": "execute_result"
    }
   ],
   "source": [
    "Xp=[\"the product is excellent and is useful for kids.\"]\n",
    "gs_clf_LinearSVC_pipe.predict(Xp)"
   ]
  },
  {
   "cell_type": "code",
   "execution_count": null,
   "id": "b088375e",
   "metadata": {},
   "outputs": [],
   "source": []
  }
 ],
 "metadata": {
  "kernelspec": {
   "display_name": "Python 3 (ipykernel)",
   "language": "python",
   "name": "python3"
  },
  "language_info": {
   "codemirror_mode": {
    "name": "ipython",
    "version": 3
   },
   "file_extension": ".py",
   "mimetype": "text/x-python",
   "name": "python",
   "nbconvert_exporter": "python",
   "pygments_lexer": "ipython3",
   "version": "3.9.13"
  }
 },
 "nbformat": 4,
 "nbformat_minor": 5
}
